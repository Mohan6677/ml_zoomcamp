{
  "cells": [
    {
      "cell_type": "markdown",
      "metadata": {
        "id": "view-in-github",
        "colab_type": "text"
      },
      "source": [
        "<a href=\"https://colab.research.google.com/github/Mohan6677/ml_zoomcamp/blob/main/HW1_ML_ZOOMCAMP.ipynb\" target=\"_parent\"><img src=\"https://colab.research.google.com/assets/colab-badge.svg\" alt=\"Open In Colab\"/></a>"
      ]
    },
    {
      "cell_type": "code",
      "execution_count": null,
      "id": "f6cc6572-0e09-42f7-8e3a-0771329d7a45",
      "metadata": {
        "id": "f6cc6572-0e09-42f7-8e3a-0771329d7a45"
      },
      "outputs": [],
      "source": [
        "import pandas as pd"
      ]
    },
    {
      "cell_type": "code",
      "execution_count": null,
      "id": "ce2b53c6-0f54-405c-af41-7da0d2f6fe88",
      "metadata": {
        "id": "ce2b53c6-0f54-405c-af41-7da0d2f6fe88",
        "outputId": "495217c6-bb59-4159-9f26-4cacd0f4c02b"
      },
      "outputs": [
        {
          "data": {
            "text/plain": [
              "'2.2.2'"
            ]
          },
          "execution_count": 3,
          "metadata": {},
          "output_type": "execute_result"
        }
      ],
      "source": [
        "pd.__version__"
      ]
    },
    {
      "cell_type": "code",
      "execution_count": null,
      "id": "3446f9ca-b34b-4008-8777-41566f169e0f",
      "metadata": {
        "id": "3446f9ca-b34b-4008-8777-41566f169e0f"
      },
      "outputs": [],
      "source": [
        "df = pd.read_csv('Downloads/laptops.csv')"
      ]
    },
    {
      "cell_type": "code",
      "execution_count": null,
      "id": "31cd518e-c64f-40c8-b06c-d79431b9b7f0",
      "metadata": {
        "id": "31cd518e-c64f-40c8-b06c-d79431b9b7f0",
        "outputId": "09634c2c-925b-4df5-fbe2-28c768e83f98"
      },
      "outputs": [
        {
          "data": {
            "text/html": [
              "<div>\n",
              "<style scoped>\n",
              "    .dataframe tbody tr th:only-of-type {\n",
              "        vertical-align: middle;\n",
              "    }\n",
              "\n",
              "    .dataframe tbody tr th {\n",
              "        vertical-align: top;\n",
              "    }\n",
              "\n",
              "    .dataframe thead th {\n",
              "        text-align: right;\n",
              "    }\n",
              "</style>\n",
              "<table border=\"1\" class=\"dataframe\">\n",
              "  <thead>\n",
              "    <tr style=\"text-align: right;\">\n",
              "      <th></th>\n",
              "      <th>Laptop</th>\n",
              "      <th>Status</th>\n",
              "      <th>Brand</th>\n",
              "      <th>Model</th>\n",
              "      <th>CPU</th>\n",
              "      <th>RAM</th>\n",
              "      <th>Storage</th>\n",
              "      <th>Storage type</th>\n",
              "      <th>GPU</th>\n",
              "      <th>Screen</th>\n",
              "      <th>Touch</th>\n",
              "      <th>Final Price</th>\n",
              "    </tr>\n",
              "  </thead>\n",
              "  <tbody>\n",
              "    <tr>\n",
              "      <th>161</th>\n",
              "      <td>Dell Vostro 3510 Intel Core i3-1115G4/8 GB/256...</td>\n",
              "      <td>New</td>\n",
              "      <td>Dell</td>\n",
              "      <td>Vostro</td>\n",
              "      <td>Intel Core i3</td>\n",
              "      <td>8</td>\n",
              "      <td>256</td>\n",
              "      <td>SSD</td>\n",
              "      <td>NaN</td>\n",
              "      <td>15.6</td>\n",
              "      <td>No</td>\n",
              "      <td>599.00</td>\n",
              "    </tr>\n",
              "    <tr>\n",
              "      <th>271</th>\n",
              "      <td>Dell Vostro 3510 Intel Core i5-1135G7/8 GB/256...</td>\n",
              "      <td>New</td>\n",
              "      <td>Dell</td>\n",
              "      <td>Vostro</td>\n",
              "      <td>Intel Core i5</td>\n",
              "      <td>8</td>\n",
              "      <td>256</td>\n",
              "      <td>SSD</td>\n",
              "      <td>NaN</td>\n",
              "      <td>15.6</td>\n",
              "      <td>No</td>\n",
              "      <td>690.15</td>\n",
              "    </tr>\n",
              "    <tr>\n",
              "      <th>281</th>\n",
              "      <td>Dell Vostro 3520 Intel Core i7-1255U/16GB/512G...</td>\n",
              "      <td>New</td>\n",
              "      <td>Dell</td>\n",
              "      <td>Vostro</td>\n",
              "      <td>Intel Core i7</td>\n",
              "      <td>16</td>\n",
              "      <td>512</td>\n",
              "      <td>SSD</td>\n",
              "      <td>NaN</td>\n",
              "      <td>15.6</td>\n",
              "      <td>No</td>\n",
              "      <td>889.00</td>\n",
              "    </tr>\n",
              "    <tr>\n",
              "      <th>319</th>\n",
              "      <td>Dell Latitude 3520 Intel Core i5-1135G7/8GB/25...</td>\n",
              "      <td>New</td>\n",
              "      <td>Dell</td>\n",
              "      <td>Latitude</td>\n",
              "      <td>Intel Core i5</td>\n",
              "      <td>8</td>\n",
              "      <td>256</td>\n",
              "      <td>SSD</td>\n",
              "      <td>NaN</td>\n",
              "      <td>15.6</td>\n",
              "      <td>No</td>\n",
              "      <td>789.00</td>\n",
              "    </tr>\n",
              "    <tr>\n",
              "      <th>328</th>\n",
              "      <td>Dell Vostro 3510 Intel Core i5-1135G7/16 GB/51...</td>\n",
              "      <td>New</td>\n",
              "      <td>Dell</td>\n",
              "      <td>Vostro</td>\n",
              "      <td>Intel Core i5</td>\n",
              "      <td>16</td>\n",
              "      <td>512</td>\n",
              "      <td>SSD</td>\n",
              "      <td>NaN</td>\n",
              "      <td>15.6</td>\n",
              "      <td>No</td>\n",
              "      <td>869.00</td>\n",
              "    </tr>\n",
              "    <tr>\n",
              "      <th>...</th>\n",
              "      <td>...</td>\n",
              "      <td>...</td>\n",
              "      <td>...</td>\n",
              "      <td>...</td>\n",
              "      <td>...</td>\n",
              "      <td>...</td>\n",
              "      <td>...</td>\n",
              "      <td>...</td>\n",
              "      <td>...</td>\n",
              "      <td>...</td>\n",
              "      <td>...</td>\n",
              "      <td>...</td>\n",
              "    </tr>\n",
              "    <tr>\n",
              "      <th>1843</th>\n",
              "      <td>Dell Vostro 5301 Intel Core i5-1135G7/8GB/256G...</td>\n",
              "      <td>Refurbished</td>\n",
              "      <td>Dell</td>\n",
              "      <td>Vostro</td>\n",
              "      <td>Intel Core i5</td>\n",
              "      <td>8</td>\n",
              "      <td>256</td>\n",
              "      <td>SSD</td>\n",
              "      <td>NaN</td>\n",
              "      <td>13.3</td>\n",
              "      <td>No</td>\n",
              "      <td>420.74</td>\n",
              "    </tr>\n",
              "    <tr>\n",
              "      <th>1844</th>\n",
              "      <td>Dell Vostro 5301 Intel Core i5-1135G7/8GB/512G...</td>\n",
              "      <td>Refurbished</td>\n",
              "      <td>Dell</td>\n",
              "      <td>Vostro</td>\n",
              "      <td>Intel Core i5</td>\n",
              "      <td>8</td>\n",
              "      <td>512</td>\n",
              "      <td>SSD</td>\n",
              "      <td>NaN</td>\n",
              "      <td>13.3</td>\n",
              "      <td>No</td>\n",
              "      <td>511.59</td>\n",
              "    </tr>\n",
              "    <tr>\n",
              "      <th>1845</th>\n",
              "      <td>Dell Vostro 5502 Intel Core i5-1135G7/8GB/512G...</td>\n",
              "      <td>Refurbished</td>\n",
              "      <td>Dell</td>\n",
              "      <td>Vostro</td>\n",
              "      <td>Intel Core i5</td>\n",
              "      <td>8</td>\n",
              "      <td>512</td>\n",
              "      <td>SSD</td>\n",
              "      <td>NaN</td>\n",
              "      <td>15.6</td>\n",
              "      <td>No</td>\n",
              "      <td>549.93</td>\n",
              "    </tr>\n",
              "    <tr>\n",
              "      <th>1846</th>\n",
              "      <td>Dell XPS 13 9300 Intel Core i5-1035G1/8GB/512G...</td>\n",
              "      <td>Refurbished</td>\n",
              "      <td>Dell</td>\n",
              "      <td>XPS</td>\n",
              "      <td>Intel Core i5</td>\n",
              "      <td>8</td>\n",
              "      <td>512</td>\n",
              "      <td>SSD</td>\n",
              "      <td>NaN</td>\n",
              "      <td>13.4</td>\n",
              "      <td>No</td>\n",
              "      <td>699.00</td>\n",
              "    </tr>\n",
              "    <tr>\n",
              "      <th>1847</th>\n",
              "      <td>Dell XPS 7390 Intel Core i7-10510U/16GB/512GB ...</td>\n",
              "      <td>Refurbished</td>\n",
              "      <td>Dell</td>\n",
              "      <td>XPS</td>\n",
              "      <td>Intel Core i7</td>\n",
              "      <td>16</td>\n",
              "      <td>512</td>\n",
              "      <td>SSD</td>\n",
              "      <td>NaN</td>\n",
              "      <td>13.3</td>\n",
              "      <td>No</td>\n",
              "      <td>1086.88</td>\n",
              "    </tr>\n",
              "  </tbody>\n",
              "</table>\n",
              "<p>84 rows × 12 columns</p>\n",
              "</div>"
            ],
            "text/plain": [
              "                                                 Laptop       Status Brand  \\\n",
              "161   Dell Vostro 3510 Intel Core i3-1115G4/8 GB/256...          New  Dell   \n",
              "271   Dell Vostro 3510 Intel Core i5-1135G7/8 GB/256...          New  Dell   \n",
              "281   Dell Vostro 3520 Intel Core i7-1255U/16GB/512G...          New  Dell   \n",
              "319   Dell Latitude 3520 Intel Core i5-1135G7/8GB/25...          New  Dell   \n",
              "328   Dell Vostro 3510 Intel Core i5-1135G7/16 GB/51...          New  Dell   \n",
              "...                                                 ...          ...   ...   \n",
              "1843  Dell Vostro 5301 Intel Core i5-1135G7/8GB/256G...  Refurbished  Dell   \n",
              "1844  Dell Vostro 5301 Intel Core i5-1135G7/8GB/512G...  Refurbished  Dell   \n",
              "1845  Dell Vostro 5502 Intel Core i5-1135G7/8GB/512G...  Refurbished  Dell   \n",
              "1846  Dell XPS 13 9300 Intel Core i5-1035G1/8GB/512G...  Refurbished  Dell   \n",
              "1847  Dell XPS 7390 Intel Core i7-10510U/16GB/512GB ...  Refurbished  Dell   \n",
              "\n",
              "         Model            CPU  RAM  Storage Storage type  GPU  Screen Touch  \\\n",
              "161     Vostro  Intel Core i3    8      256          SSD  NaN    15.6    No   \n",
              "271     Vostro  Intel Core i5    8      256          SSD  NaN    15.6    No   \n",
              "281     Vostro  Intel Core i7   16      512          SSD  NaN    15.6    No   \n",
              "319   Latitude  Intel Core i5    8      256          SSD  NaN    15.6    No   \n",
              "328     Vostro  Intel Core i5   16      512          SSD  NaN    15.6    No   \n",
              "...        ...            ...  ...      ...          ...  ...     ...   ...   \n",
              "1843    Vostro  Intel Core i5    8      256          SSD  NaN    13.3    No   \n",
              "1844    Vostro  Intel Core i5    8      512          SSD  NaN    13.3    No   \n",
              "1845    Vostro  Intel Core i5    8      512          SSD  NaN    15.6    No   \n",
              "1846       XPS  Intel Core i5    8      512          SSD  NaN    13.4    No   \n",
              "1847       XPS  Intel Core i7   16      512          SSD  NaN    13.3    No   \n",
              "\n",
              "      Final Price  \n",
              "161        599.00  \n",
              "271        690.15  \n",
              "281        889.00  \n",
              "319        789.00  \n",
              "328        869.00  \n",
              "...           ...  \n",
              "1843       420.74  \n",
              "1844       511.59  \n",
              "1845       549.93  \n",
              "1846       699.00  \n",
              "1847      1086.88  \n",
              "\n",
              "[84 rows x 12 columns]"
            ]
          },
          "execution_count": 53,
          "metadata": {},
          "output_type": "execute_result"
        }
      ],
      "source": [
        "df[(df['Brand'] == 'Dell')]"
      ]
    },
    {
      "cell_type": "code",
      "execution_count": null,
      "id": "d6ca4820-d8bb-4c6b-abe4-ab67205f04ee",
      "metadata": {
        "id": "d6ca4820-d8bb-4c6b-abe4-ab67205f04ee",
        "outputId": "18408f2a-272a-4564-af6c-99349dda89fa"
      },
      "outputs": [
        {
          "data": {
            "text/plain": [
              "Laptop          2160\n",
              "Status          2160\n",
              "Brand           2160\n",
              "Model           2160\n",
              "CPU             2160\n",
              "RAM             2160\n",
              "Storage         2160\n",
              "Storage type    2118\n",
              "GPU              789\n",
              "Screen          2156\n",
              "Touch           2160\n",
              "Final Price     2160\n",
              "dtype: int64"
            ]
          },
          "execution_count": 6,
          "metadata": {},
          "output_type": "execute_result"
        }
      ],
      "source": [
        "df.count()"
      ]
    },
    {
      "cell_type": "code",
      "execution_count": null,
      "id": "58ef38c6-ecd7-4e7f-9f59-b0a0a29a7726",
      "metadata": {
        "id": "58ef38c6-ecd7-4e7f-9f59-b0a0a29a7726",
        "outputId": "052ceeb6-8bc1-4fa8-db78-474134faab7e"
      },
      "outputs": [
        {
          "data": {
            "text/plain": [
              "RangeIndex(start=0, stop=2160, step=1)"
            ]
          },
          "execution_count": 10,
          "metadata": {},
          "output_type": "execute_result"
        }
      ],
      "source": [
        "df.index"
      ]
    },
    {
      "cell_type": "code",
      "execution_count": null,
      "id": "22fb3cd9-1d2a-48c2-8107-b16a06cee9e3",
      "metadata": {
        "id": "22fb3cd9-1d2a-48c2-8107-b16a06cee9e3",
        "outputId": "06c0a612-2e0a-496f-a1bd-f87ea127bc19"
      },
      "outputs": [
        {
          "data": {
            "text/plain": [
              "27"
            ]
          },
          "execution_count": 11,
          "metadata": {},
          "output_type": "execute_result"
        }
      ],
      "source": [
        "df['Brand'].nunique()"
      ]
    },
    {
      "cell_type": "code",
      "execution_count": null,
      "id": "e87c52d0-0f27-4232-8ea2-881c31b5f51b",
      "metadata": {
        "id": "e87c52d0-0f27-4232-8ea2-881c31b5f51b",
        "outputId": "5356282a-7269-45ad-949a-df2e32a66bf4"
      },
      "outputs": [
        {
          "data": {
            "text/plain": [
              "Laptop             0\n",
              "Status             0\n",
              "Brand              0\n",
              "Model              0\n",
              "CPU                0\n",
              "RAM                0\n",
              "Storage            0\n",
              "Storage type      42\n",
              "GPU             1371\n",
              "Screen             4\n",
              "Touch              0\n",
              "Final Price        0\n",
              "dtype: int64"
            ]
          },
          "execution_count": 12,
          "metadata": {},
          "output_type": "execute_result"
        }
      ],
      "source": [
        "df.isnull().sum()"
      ]
    },
    {
      "cell_type": "code",
      "execution_count": null,
      "id": "d39d2e76-b4ef-45f5-9730-5b86fa06d9a8",
      "metadata": {
        "id": "d39d2e76-b4ef-45f5-9730-5b86fa06d9a8",
        "outputId": "d4e93c21-7a2a-4b83-ce1b-27ea1d410587"
      },
      "outputs": [
        {
          "data": {
            "text/plain": [
              "3936.0"
            ]
          },
          "execution_count": 54,
          "metadata": {},
          "output_type": "execute_result"
        }
      ],
      "source": [
        "df[(df['Brand'] == 'Dell')]['Final Price'].max()"
      ]
    },
    {
      "cell_type": "code",
      "execution_count": null,
      "id": "17d46b39-d12e-4b0b-bc6c-a1089ab4f34e",
      "metadata": {
        "id": "17d46b39-d12e-4b0b-bc6c-a1089ab4f34e",
        "outputId": "8ea94e80-5e04-40b4-ffb7-c2272d52fdab"
      },
      "outputs": [
        {
          "data": {
            "text/plain": [
              "15.6"
            ]
          },
          "execution_count": 13,
          "metadata": {},
          "output_type": "execute_result"
        }
      ],
      "source": [
        "df['Screen'].median()"
      ]
    },
    {
      "cell_type": "code",
      "execution_count": null,
      "id": "eafaa571-1be3-4b09-8f0f-8c9ee1872d4e",
      "metadata": {
        "id": "eafaa571-1be3-4b09-8f0f-8c9ee1872d4e",
        "outputId": "44214bd7-f5de-488e-a94d-f73af34e1c4d"
      },
      "outputs": [
        {
          "data": {
            "text/plain": [
              "0    15.6\n",
              "Name: Screen, dtype: float64"
            ]
          },
          "execution_count": 15,
          "metadata": {},
          "output_type": "execute_result"
        }
      ],
      "source": [
        "df['Screen'].mode()"
      ]
    },
    {
      "cell_type": "code",
      "execution_count": null,
      "id": "aa44276a-551a-479a-8b5f-b49ddf069001",
      "metadata": {
        "id": "aa44276a-551a-479a-8b5f-b49ddf069001",
        "outputId": "f28b1512-0fa2-4ee9-90d2-cd57c9756be0"
      },
      "outputs": [
        {
          "data": {
            "text/plain": [
              "0       15.6\n",
              "1       15.6\n",
              "2       15.6\n",
              "3       15.6\n",
              "4       15.6\n",
              "        ... \n",
              "2155    17.3\n",
              "2156    17.3\n",
              "2157    17.3\n",
              "2158    13.4\n",
              "2159    13.4\n",
              "Name: Screen, Length: 2160, dtype: float64"
            ]
          },
          "execution_count": 17,
          "metadata": {},
          "output_type": "execute_result"
        }
      ],
      "source": [
        "df['Screen'].fillna(15.6)"
      ]
    },
    {
      "cell_type": "code",
      "execution_count": null,
      "id": "bb7a501e-1c15-4430-b374-6a87d75b724b",
      "metadata": {
        "id": "bb7a501e-1c15-4430-b374-6a87d75b724b",
        "outputId": "97a57974-77b8-46ba-c826-1a6f6d45cd03"
      },
      "outputs": [
        {
          "data": {
            "text/plain": [
              "15.6"
            ]
          },
          "execution_count": 18,
          "metadata": {},
          "output_type": "execute_result"
        }
      ],
      "source": [
        "df['Screen'].median()"
      ]
    },
    {
      "cell_type": "code",
      "execution_count": null,
      "id": "af57c729-c91b-4bc9-a7ea-b017e9e172fa",
      "metadata": {
        "id": "af57c729-c91b-4bc9-a7ea-b017e9e172fa"
      },
      "outputs": [],
      "source": [
        "df1 = df [ (df['Brand'] == 'Innjoo') ]"
      ]
    },
    {
      "cell_type": "code",
      "execution_count": null,
      "id": "6a9ccae8-cfd8-4d2d-8cc0-3f22e391da51",
      "metadata": {
        "id": "6a9ccae8-cfd8-4d2d-8cc0-3f22e391da51"
      },
      "outputs": [],
      "source": [
        "df1 = df1[['RAM', 'Storage', 'Screen']]"
      ]
    },
    {
      "cell_type": "code",
      "execution_count": null,
      "id": "fb55c608-ebcb-400e-abec-d41ffa6269b3",
      "metadata": {
        "id": "fb55c608-ebcb-400e-abec-d41ffa6269b3"
      },
      "outputs": [],
      "source": [
        "X = df1.values"
      ]
    },
    {
      "cell_type": "code",
      "execution_count": null,
      "id": "33683272-ee35-4d1d-9842-bbe4d0603564",
      "metadata": {
        "id": "33683272-ee35-4d1d-9842-bbe4d0603564"
      },
      "outputs": [],
      "source": [
        "XTX = X.T.dot(X)"
      ]
    },
    {
      "cell_type": "code",
      "execution_count": null,
      "id": "8aa284cc-8f21-41a6-98dc-b8c9c784b742",
      "metadata": {
        "id": "8aa284cc-8f21-41a6-98dc-b8c9c784b742",
        "outputId": "81e26e0f-2a81-4eee-d8de-e65b97b52d2b"
      },
      "outputs": [
        {
          "data": {
            "text/plain": [
              "array([[2.52000e+02, 8.32000e+03, 5.59800e+02],\n",
              "       [8.32000e+03, 3.68640e+05, 1.73952e+04],\n",
              "       [5.59800e+02, 1.73952e+04, 1.28196e+03]])"
            ]
          },
          "execution_count": 38,
          "metadata": {},
          "output_type": "execute_result"
        }
      ],
      "source": [
        "XTX"
      ]
    },
    {
      "cell_type": "code",
      "execution_count": null,
      "id": "5b96cc4a-b476-423a-85d8-76b05527b116",
      "metadata": {
        "id": "5b96cc4a-b476-423a-85d8-76b05527b116"
      },
      "outputs": [],
      "source": [
        "import numpy as np"
      ]
    },
    {
      "cell_type": "code",
      "execution_count": null,
      "id": "880e16df-bd80-4abe-9b0b-e2ef5486b8e0",
      "metadata": {
        "id": "880e16df-bd80-4abe-9b0b-e2ef5486b8e0"
      },
      "outputs": [],
      "source": [
        "XTX_INV = np.linalg.inv(XTX)"
      ]
    },
    {
      "cell_type": "code",
      "execution_count": null,
      "id": "b49b3dd4-42aa-409b-8c02-f6db5554d2f6",
      "metadata": {
        "id": "b49b3dd4-42aa-409b-8c02-f6db5554d2f6"
      },
      "outputs": [],
      "source": [
        "y = [1100, 1300, 800, 900, 1000, 1100]"
      ]
    },
    {
      "cell_type": "code",
      "execution_count": null,
      "id": "27dbaf26-875a-4eb9-ab4e-674185840942",
      "metadata": {
        "id": "27dbaf26-875a-4eb9-ab4e-674185840942"
      },
      "outputs": [],
      "source": [
        "w = XTX_INV.dot(X.T).dot(y)"
      ]
    },
    {
      "cell_type": "code",
      "execution_count": null,
      "id": "0fed1ff3-0adb-4bab-9778-b4a13398f156",
      "metadata": {
        "id": "0fed1ff3-0adb-4bab-9778-b4a13398f156",
        "outputId": "d3906dff-7eac-4179-f728-247e98508c0f"
      },
      "outputs": [
        {
          "data": {
            "text/plain": [
              "91.2998806299557"
            ]
          },
          "execution_count": 44,
          "metadata": {},
          "output_type": "execute_result"
        }
      ],
      "source": [
        "w.sum()"
      ]
    },
    {
      "cell_type": "code",
      "execution_count": null,
      "id": "bfa98f69-1111-43bb-8cc9-ec3646a71811",
      "metadata": {
        "id": "bfa98f69-1111-43bb-8cc9-ec3646a71811"
      },
      "outputs": [],
      "source": []
    }
  ],
  "metadata": {
    "kernelspec": {
      "display_name": "Python 3 (ipykernel)",
      "language": "python",
      "name": "python3"
    },
    "language_info": {
      "codemirror_mode": {
        "name": "ipython",
        "version": 3
      },
      "file_extension": ".py",
      "mimetype": "text/x-python",
      "name": "python",
      "nbconvert_exporter": "python",
      "pygments_lexer": "ipython3",
      "version": "3.12.4"
    },
    "colab": {
      "provenance": [],
      "include_colab_link": true
    }
  },
  "nbformat": 4,
  "nbformat_minor": 5
}